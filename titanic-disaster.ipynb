{
 "cells": [
  {
   "cell_type": "code",
   "execution_count": 1,
   "metadata": {
    "_cell_guid": "b1076dfc-b9ad-4769-8c92-a6c4dae69d19",
    "_uuid": "8f2839f25d086af736a60e9eeb907d3b93b6e0e5",
    "execution": {
     "iopub.execute_input": "2020-12-27T21:59:00.415276Z",
     "iopub.status.busy": "2020-12-27T21:59:00.414646Z",
     "iopub.status.idle": "2020-12-27T21:59:00.422845Z",
     "shell.execute_reply": "2020-12-27T21:59:00.423385Z"
    },
    "papermill": {
     "duration": 0.029009,
     "end_time": "2020-12-27T21:59:00.423563",
     "exception": false,
     "start_time": "2020-12-27T21:59:00.394554",
     "status": "completed"
    },
    "tags": []
   },
   "outputs": [
    {
     "name": "stdout",
     "output_type": "stream",
     "text": [
      "/kaggle/input/titanic/train.csv\n",
      "/kaggle/input/titanic/test.csv\n",
      "/kaggle/input/titanic/gender_submission.csv\n"
     ]
    }
   ],
   "source": [
    "# This Python 3 environment comes with many helpful analytics libraries installed\n",
    "# It is defined by the kaggle/python Docker image: https://github.com/kaggle/docker-python\n",
    "# For example, here's several helpful packages to load\n",
    "\n",
    "import numpy as np # linear algebra\n",
    "import pandas as pd # data processing, CSV file I/O (e.g. pd.read_csv)\n",
    "\n",
    "# Input data files are available in the read-only \"../input/\" directory\n",
    "# For example, running this (by clicking run or pressing Shift+Enter) will list all files under the input directory\n",
    "\n",
    "import os\n",
    "for dirname, _, filenames in os.walk('/kaggle/input'):\n",
    "    for filename in filenames:\n",
    "        print(os.path.join(dirname, filename))\n",
    "\n",
    "# You can write up to 20GB to the current directory (/kaggle/working/) that gets preserved as output when you create a version using \"Save & Run All\" \n",
    "# You can also write temporary files to /kaggle/temp/, but they won't be saved outside of the current session"
   ]
  },
  {
   "cell_type": "code",
   "execution_count": 2,
   "metadata": {
    "_cell_guid": "79c7e3d0-c299-4dcb-8224-4455121ee9b0",
    "_uuid": "d629ff2d2480ee46fbb7e2d37f6b5fab8052498a",
    "execution": {
     "iopub.execute_input": "2020-12-27T21:59:00.460121Z",
     "iopub.status.busy": "2020-12-27T21:59:00.459518Z",
     "iopub.status.idle": "2020-12-27T21:59:01.542594Z",
     "shell.execute_reply": "2020-12-27T21:59:01.541970Z"
    },
    "papermill": {
     "duration": 1.102116,
     "end_time": "2020-12-27T21:59:01.542728",
     "exception": false,
     "start_time": "2020-12-27T21:59:00.440612",
     "status": "completed"
    },
    "tags": []
   },
   "outputs": [],
   "source": [
    "import seaborn as sns\n",
    "import matplotlib.pyplot as plt"
   ]
  },
  {
   "cell_type": "code",
   "execution_count": 3,
   "metadata": {
    "execution": {
     "iopub.execute_input": "2020-12-27T21:59:01.584189Z",
     "iopub.status.busy": "2020-12-27T21:59:01.583555Z",
     "iopub.status.idle": "2020-12-27T21:59:01.612286Z",
     "shell.execute_reply": "2020-12-27T21:59:01.611590Z"
    },
    "papermill": {
     "duration": 0.053054,
     "end_time": "2020-12-27T21:59:01.612412",
     "exception": false,
     "start_time": "2020-12-27T21:59:01.559358",
     "status": "completed"
    },
    "tags": []
   },
   "outputs": [],
   "source": [
    "train_path = '../input/titanic/train.csv'\n",
    "test_path = '../input/titanic/test.csv'\n",
    "\n",
    "train_df = pd.read_csv(train_path)\n",
    "test_df = pd.read_csv(test_path)"
   ]
  },
  {
   "cell_type": "code",
   "execution_count": 4,
   "metadata": {
    "execution": {
     "iopub.execute_input": "2020-12-27T21:59:01.667830Z",
     "iopub.status.busy": "2020-12-27T21:59:01.662375Z",
     "iopub.status.idle": "2020-12-27T21:59:01.683173Z",
     "shell.execute_reply": "2020-12-27T21:59:01.682637Z"
    },
    "papermill": {
     "duration": 0.053787,
     "end_time": "2020-12-27T21:59:01.683302",
     "exception": false,
     "start_time": "2020-12-27T21:59:01.629515",
     "status": "completed"
    },
    "tags": []
   },
   "outputs": [
    {
     "data": {
      "text/html": [
       "<div>\n",
       "<style scoped>\n",
       "    .dataframe tbody tr th:only-of-type {\n",
       "        vertical-align: middle;\n",
       "    }\n",
       "\n",
       "    .dataframe tbody tr th {\n",
       "        vertical-align: top;\n",
       "    }\n",
       "\n",
       "    .dataframe thead th {\n",
       "        text-align: right;\n",
       "    }\n",
       "</style>\n",
       "<table border=\"1\" class=\"dataframe\">\n",
       "  <thead>\n",
       "    <tr style=\"text-align: right;\">\n",
       "      <th></th>\n",
       "      <th>PassengerId</th>\n",
       "      <th>Survived</th>\n",
       "      <th>Pclass</th>\n",
       "      <th>Name</th>\n",
       "      <th>Sex</th>\n",
       "      <th>Age</th>\n",
       "      <th>SibSp</th>\n",
       "      <th>Parch</th>\n",
       "      <th>Ticket</th>\n",
       "      <th>Fare</th>\n",
       "      <th>Cabin</th>\n",
       "      <th>Embarked</th>\n",
       "    </tr>\n",
       "  </thead>\n",
       "  <tbody>\n",
       "    <tr>\n",
       "      <th>0</th>\n",
       "      <td>1</td>\n",
       "      <td>0</td>\n",
       "      <td>3</td>\n",
       "      <td>Braund, Mr. Owen Harris</td>\n",
       "      <td>male</td>\n",
       "      <td>22.0</td>\n",
       "      <td>1</td>\n",
       "      <td>0</td>\n",
       "      <td>A/5 21171</td>\n",
       "      <td>7.2500</td>\n",
       "      <td>NaN</td>\n",
       "      <td>S</td>\n",
       "    </tr>\n",
       "    <tr>\n",
       "      <th>1</th>\n",
       "      <td>2</td>\n",
       "      <td>1</td>\n",
       "      <td>1</td>\n",
       "      <td>Cumings, Mrs. John Bradley (Florence Briggs Th...</td>\n",
       "      <td>female</td>\n",
       "      <td>38.0</td>\n",
       "      <td>1</td>\n",
       "      <td>0</td>\n",
       "      <td>PC 17599</td>\n",
       "      <td>71.2833</td>\n",
       "      <td>C85</td>\n",
       "      <td>C</td>\n",
       "    </tr>\n",
       "    <tr>\n",
       "      <th>2</th>\n",
       "      <td>3</td>\n",
       "      <td>1</td>\n",
       "      <td>3</td>\n",
       "      <td>Heikkinen, Miss. Laina</td>\n",
       "      <td>female</td>\n",
       "      <td>26.0</td>\n",
       "      <td>0</td>\n",
       "      <td>0</td>\n",
       "      <td>STON/O2. 3101282</td>\n",
       "      <td>7.9250</td>\n",
       "      <td>NaN</td>\n",
       "      <td>S</td>\n",
       "    </tr>\n",
       "    <tr>\n",
       "      <th>3</th>\n",
       "      <td>4</td>\n",
       "      <td>1</td>\n",
       "      <td>1</td>\n",
       "      <td>Futrelle, Mrs. Jacques Heath (Lily May Peel)</td>\n",
       "      <td>female</td>\n",
       "      <td>35.0</td>\n",
       "      <td>1</td>\n",
       "      <td>0</td>\n",
       "      <td>113803</td>\n",
       "      <td>53.1000</td>\n",
       "      <td>C123</td>\n",
       "      <td>S</td>\n",
       "    </tr>\n",
       "    <tr>\n",
       "      <th>4</th>\n",
       "      <td>5</td>\n",
       "      <td>0</td>\n",
       "      <td>3</td>\n",
       "      <td>Allen, Mr. William Henry</td>\n",
       "      <td>male</td>\n",
       "      <td>35.0</td>\n",
       "      <td>0</td>\n",
       "      <td>0</td>\n",
       "      <td>373450</td>\n",
       "      <td>8.0500</td>\n",
       "      <td>NaN</td>\n",
       "      <td>S</td>\n",
       "    </tr>\n",
       "  </tbody>\n",
       "</table>\n",
       "</div>"
      ],
      "text/plain": [
       "   PassengerId  Survived  Pclass  \\\n",
       "0            1         0       3   \n",
       "1            2         1       1   \n",
       "2            3         1       3   \n",
       "3            4         1       1   \n",
       "4            5         0       3   \n",
       "\n",
       "                                                Name     Sex   Age  SibSp  \\\n",
       "0                            Braund, Mr. Owen Harris    male  22.0      1   \n",
       "1  Cumings, Mrs. John Bradley (Florence Briggs Th...  female  38.0      1   \n",
       "2                             Heikkinen, Miss. Laina  female  26.0      0   \n",
       "3       Futrelle, Mrs. Jacques Heath (Lily May Peel)  female  35.0      1   \n",
       "4                           Allen, Mr. William Henry    male  35.0      0   \n",
       "\n",
       "   Parch            Ticket     Fare Cabin Embarked  \n",
       "0      0         A/5 21171   7.2500   NaN        S  \n",
       "1      0          PC 17599  71.2833   C85        C  \n",
       "2      0  STON/O2. 3101282   7.9250   NaN        S  \n",
       "3      0            113803  53.1000  C123        S  \n",
       "4      0            373450   8.0500   NaN        S  "
      ]
     },
     "execution_count": 4,
     "metadata": {},
     "output_type": "execute_result"
    }
   ],
   "source": [
    "train_df.head()"
   ]
  },
  {
   "cell_type": "code",
   "execution_count": 5,
   "metadata": {
    "execution": {
     "iopub.execute_input": "2020-12-27T21:59:01.724110Z",
     "iopub.status.busy": "2020-12-27T21:59:01.723460Z",
     "iopub.status.idle": "2020-12-27T21:59:01.727728Z",
     "shell.execute_reply": "2020-12-27T21:59:01.727202Z"
    },
    "papermill": {
     "duration": 0.027552,
     "end_time": "2020-12-27T21:59:01.727853",
     "exception": false,
     "start_time": "2020-12-27T21:59:01.700301",
     "status": "completed"
    },
    "tags": []
   },
   "outputs": [
    {
     "data": {
      "text/plain": [
       "PassengerId      int64\n",
       "Survived         int64\n",
       "Pclass           int64\n",
       "Name            object\n",
       "Sex             object\n",
       "Age            float64\n",
       "SibSp            int64\n",
       "Parch            int64\n",
       "Ticket          object\n",
       "Fare           float64\n",
       "Cabin           object\n",
       "Embarked        object\n",
       "dtype: object"
      ]
     },
     "execution_count": 5,
     "metadata": {},
     "output_type": "execute_result"
    }
   ],
   "source": [
    "train_df.dtypes"
   ]
  },
  {
   "cell_type": "markdown",
   "metadata": {
    "papermill": {
     "duration": 0.018169,
     "end_time": "2020-12-27T21:59:01.763031",
     "exception": false,
     "start_time": "2020-12-27T21:59:01.744862",
     "status": "completed"
    },
    "tags": []
   },
   "source": [
    "# Which feature should be used to train the model?"
   ]
  },
  {
   "cell_type": "markdown",
   "metadata": {
    "papermill": {
     "duration": 0.016818,
     "end_time": "2020-12-27T21:59:01.796958",
     "exception": false,
     "start_time": "2020-12-27T21:59:01.780140",
     "status": "completed"
    },
    "tags": []
   },
   "source": [
    "**Age:**"
   ]
  },
  {
   "cell_type": "markdown",
   "metadata": {
    "papermill": {
     "duration": 0.017115,
     "end_time": "2020-12-27T21:59:01.831842",
     "exception": false,
     "start_time": "2020-12-27T21:59:01.814727",
     "status": "completed"
    },
    "tags": []
   },
   "source": [
    "Distribution of passenger's ages"
   ]
  },
  {
   "cell_type": "code",
   "execution_count": 6,
   "metadata": {
    "execution": {
     "iopub.execute_input": "2020-12-27T21:59:01.872653Z",
     "iopub.status.busy": "2020-12-27T21:59:01.871872Z",
     "iopub.status.idle": "2020-12-27T21:59:02.146293Z",
     "shell.execute_reply": "2020-12-27T21:59:02.145754Z"
    },
    "papermill": {
     "duration": 0.297271,
     "end_time": "2020-12-27T21:59:02.146414",
     "exception": false,
     "start_time": "2020-12-27T21:59:01.849143",
     "status": "completed"
    },
    "tags": []
   },
   "outputs": [
    {
     "data": {
      "text/plain": [
       "Text(0.5, 1.0, 'Distribution of Age of Passengers')"
      ]
     },
     "execution_count": 6,
     "metadata": {},
     "output_type": "execute_result"
    },
    {
     "data": {
      "image/png": "[encoded data removed]",
      "text/plain": [
       "<Figure size 1080x504 with 1 Axes>"
      ]
     },
     "metadata": {
      "needs_background": "light"
     },
     "output_type": "display_data"
    }
   ],
   "source": [
    "age = train_df['Age']\n",
    "\n",
    "fig, ax_age = plt.subplots(figsize = (15, 7))\n",
    "\n",
    "sns.distplot(age, ax = ax_age)\n",
    "\n",
    "ax_age.set_title('Distribution of Age of Passengers')"
   ]
  },
  {
   "cell_type": "code",
   "execution_count": 7,
   "metadata": {
    "execution": {
     "iopub.execute_input": "2020-12-27T21:59:02.191505Z",
     "iopub.status.busy": "2020-12-27T21:59:02.190663Z",
     "iopub.status.idle": "2020-12-27T21:59:02.529619Z",
     "shell.execute_reply": "2020-12-27T21:59:02.530151Z"
    },
    "papermill": {
     "duration": 0.365095,
     "end_time": "2020-12-27T21:59:02.530324",
     "exception": false,
     "start_time": "2020-12-27T21:59:02.165229",
     "status": "completed"
    },
    "tags": []
   },
   "outputs": [
    {
     "data": {
      "text/plain": [
       "Text(0.5, 1.0, 'Dead')"
      ]
     },
     "execution_count": 7,
     "metadata": {},
     "output_type": "execute_result"
    },
    {
     "data": {
      "image/png": "[encoded data removed]",
      "text/plain": [
       "<Figure size 1080x360 with 2 Axes>"
      ]
     },
     "metadata": {
      "needs_background": "light"
     },
     "output_type": "display_data"
    }
   ],
   "source": [
    "live = train_df.loc[train_df['Survived'] == 1]\n",
    "death = train_df.loc[train_df['Survived'] == 0]\n",
    "\n",
    "fig, (ax_age_live, ax_age_death) = plt.subplots(1,2, figsize = (15, 5))\n",
    "sns.distplot(live['Age'], ax = ax_age_live)\n",
    "sns.distplot(death['Age'], ax = ax_age_death)\n",
    "\n",
    "ax_age_live.set_title('Survived')\n",
    "ax_age_death.set_title('Dead')"
   ]
  },
  {
   "cell_type": "markdown",
   "metadata": {
    "papermill": {
     "duration": 0.020057,
     "end_time": "2020-12-27T21:59:02.570773",
     "exception": false,
     "start_time": "2020-12-27T21:59:02.550716",
     "status": "completed"
    },
    "tags": []
   },
   "source": [
    "* Children under age 4 has a high survive rate.\n",
    "* Most people are with the age between 20 and 36.\n",
    "* Large number of death occured between age 16 to 32.\n",
    "\n",
    "Conclusion:\n",
    "We should consider Age in our model."
   ]
  },
  {
   "cell_type": "markdown",
   "metadata": {
    "papermill": {
     "duration": 0.020155,
     "end_time": "2020-12-27T21:59:02.611006",
     "exception": false,
     "start_time": "2020-12-27T21:59:02.590851",
     "status": "completed"
    },
    "tags": []
   },
   "source": [
    "**Gender:**"
   ]
  },
  {
   "cell_type": "code",
   "execution_count": 8,
   "metadata": {
    "execution": {
     "iopub.execute_input": "2020-12-27T21:59:02.668115Z",
     "iopub.status.busy": "2020-12-27T21:59:02.667352Z",
     "iopub.status.idle": "2020-12-27T21:59:02.808432Z",
     "shell.execute_reply": "2020-12-27T21:59:02.808863Z"
    },
    "papermill": {
     "duration": 0.17739,
     "end_time": "2020-12-27T21:59:02.809013",
     "exception": false,
     "start_time": "2020-12-27T21:59:02.631623",
     "status": "completed"
    },
    "tags": []
   },
   "outputs": [
    {
     "data": {
      "text/plain": [
       "(array([0, 1]), <a list of 2 Text major ticklabel objects>)"
      ]
     },
     "execution_count": 8,
     "metadata": {},
     "output_type": "execute_result"
    },
    {
     "data": {
      "image/png": "[encoded data removed]",
      "text/plain": [
       "<Figure size 504x360 with 1 Axes>"
      ]
     },
     "metadata": {
      "needs_background": "light"
     },
     "output_type": "display_data"
    }
   ],
   "source": [
    "gender = train_df.groupby('Sex').count()\n",
    "\n",
    "fig, ax_age = plt.subplots(figsize = (7,5))\n",
    "gender['PassengerId'].plot.bar(ax = ax_age)\n",
    "\n",
    "ax_age.set_title('Number of Passengers in Different Genders')\n",
    "plt.xticks(rotation = 0)"
   ]
  },
  {
   "cell_type": "code",
   "execution_count": 9,
   "metadata": {
    "execution": {
     "iopub.execute_input": "2020-12-27T21:59:02.854732Z",
     "iopub.status.busy": "2020-12-27T21:59:02.853736Z",
     "iopub.status.idle": "2020-12-27T21:59:02.965207Z",
     "shell.execute_reply": "2020-12-27T21:59:02.965750Z"
    },
    "papermill": {
     "duration": 0.13616,
     "end_time": "2020-12-27T21:59:02.965907",
     "exception": false,
     "start_time": "2020-12-27T21:59:02.829747",
     "status": "completed"
    },
    "tags": []
   },
   "outputs": [
    {
     "data": {
      "text/plain": [
       "Text(0.5, 1.0, 'Female')"
      ]
     },
     "execution_count": 9,
     "metadata": {},
     "output_type": "execute_result"
    },
    {
     "data": {
      "image/png": "[encoded data removed]",
      "text/plain": [
       "<Figure size 1080x504 with 2 Axes>"
      ]
     },
     "metadata": {},
     "output_type": "display_data"
    }
   ],
   "source": [
    "male = train_df.loc[train_df['Sex'] == 'male']\n",
    "female = train_df.loc[train_df['Sex'] == 'female']\n",
    "\n",
    "fig, (ax_male_death_rate, ax_female_death_rate) = plt.subplots(1,2,figsize = (15, 7))\n",
    "\n",
    "male_rate = male.groupby('Survived').count()\n",
    "female_rate = female.groupby('Survived').count()\n",
    "\n",
    "label = ['Dead','Survived']\n",
    "ax_male_death_rate.pie(male_rate['PassengerId'],labels = label, autopct = '%1.0f%%' )\n",
    "ax_female_death_rate.pie(female_rate['PassengerId'],labels = label, autopct = '%1.0f%%' )\n",
    "\n",
    "ax_male_death_rate.set_title('Male')\n",
    "ax_female_death_rate.set_title('Female')"
   ]
  },
  {
   "cell_type": "markdown",
   "metadata": {
    "papermill": {
     "duration": 0.021891,
     "end_time": "2020-12-27T21:59:03.010106",
     "exception": false,
     "start_time": "2020-12-27T21:59:02.988215",
     "status": "completed"
    },
    "tags": []
   },
   "source": [
    "* There are more male passengers on boarded.\n",
    "* Female passengers have a much higher survive rate.\n",
    "\n",
    "Conclusion: We should consider gender in our model."
   ]
  },
  {
   "cell_type": "markdown",
   "metadata": {
    "papermill": {
     "duration": 0.021674,
     "end_time": "2020-12-27T21:59:03.054092",
     "exception": false,
     "start_time": "2020-12-27T21:59:03.032418",
     "status": "completed"
    },
    "tags": []
   },
   "source": [
    "**PClass:**"
   ]
  },
  {
   "cell_type": "code",
   "execution_count": 10,
   "metadata": {
    "execution": {
     "iopub.execute_input": "2020-12-27T21:59:03.102518Z",
     "iopub.status.busy": "2020-12-27T21:59:03.101603Z",
     "iopub.status.idle": "2020-12-27T21:59:03.107440Z",
     "shell.execute_reply": "2020-12-27T21:59:03.107835Z"
    },
    "papermill": {
     "duration": 0.031669,
     "end_time": "2020-12-27T21:59:03.107981",
     "exception": false,
     "start_time": "2020-12-27T21:59:03.076312",
     "status": "completed"
    },
    "tags": []
   },
   "outputs": [
    {
     "data": {
      "text/plain": [
       "array([3, 1, 2])"
      ]
     },
     "execution_count": 10,
     "metadata": {},
     "output_type": "execute_result"
    }
   ],
   "source": [
    "train_df['Pclass'].unique()"
   ]
  },
  {
   "cell_type": "code",
   "execution_count": 11,
   "metadata": {
    "execution": {
     "iopub.execute_input": "2020-12-27T21:59:03.157462Z",
     "iopub.status.busy": "2020-12-27T21:59:03.156530Z",
     "iopub.status.idle": "2020-12-27T21:59:04.478052Z",
     "shell.execute_reply": "2020-12-27T21:59:04.478653Z"
    },
    "papermill": {
     "duration": 1.348056,
     "end_time": "2020-12-27T21:59:04.478818",
     "exception": false,
     "start_time": "2020-12-27T21:59:03.130762",
     "status": "completed"
    },
    "tags": []
   },
   "outputs": [
    {
     "data": {
      "text/plain": [
       "Text(0.5, 1.0, 'Pclass1, Dead')"
      ]
     },
     "execution_count": 11,
     "metadata": {},
     "output_type": "execute_result"
    },
    {
     "data": {
      "image/png": "[encoded data removed]",
      "text/plain": [
       "<Figure size 1080x1080 with 6 Axes>"
      ]
     },
     "metadata": {
      "needs_background": "light"
     },
     "output_type": "display_data"
    }
   ],
   "source": [
    "death = train_df.loc[train_df['Survived'] == 0]\n",
    "live = train_df.loc[train_df['Survived'] == 1]\n",
    "\n",
    "fig, ((ax_3_live, ax_3_death),\n",
    "     (ax_2_live, ax_2_death),\n",
    "     (ax_1_live, ax_1_death)) = plt.subplots(3,2,figsize = (15, 15), sharey = True, sharex = True)\n",
    "\n",
    "p3_death = death.loc[death['Pclass'] == 3]\n",
    "p3_live = live.loc[live['Pclass'] == 3]\n",
    "p2_death = death.loc[death['Pclass'] == 2]\n",
    "p2_live = live.loc[live['Pclass'] == 2]\n",
    "p1_death = death.loc[death['Pclass'] == 1]\n",
    "p1_live = live.loc[live['Pclass'] == 1]\n",
    "\n",
    "sns.distplot(p3_death['Age'],ax = ax_3_death, kde = False, bins = 20)\n",
    "sns.distplot(p3_live['Age'], ax = ax_3_live, kde = False, bins = 20)\n",
    "sns.distplot(p2_death['Age'],ax = ax_2_death, kde = False, bins = 20)\n",
    "sns.distplot(p2_live['Age'], ax = ax_2_live, kde = False, bins = 20)\n",
    "sns.distplot(p1_death['Age'],ax = ax_1_death, kde = False, bins = 20)\n",
    "sns.distplot(p1_live['Age'], ax = ax_1_live, kde = False, bins = 20)\n",
    "\n",
    "ax_3_live.set_title('Pclass3, Survived')\n",
    "ax_3_death.set_title('Pclass3, Dead')\n",
    "ax_2_live.set_title('Pclass2, Survived')\n",
    "ax_2_death.set_title('Pclass2, Dead')\n",
    "ax_1_live.set_title('Pclass1, Survived')\n",
    "ax_1_death.set_title('Pclass1, Dead')"
   ]
  },
  {
   "cell_type": "markdown",
   "metadata": {
    "papermill": {
     "duration": 0.023321,
     "end_time": "2020-12-27T21:59:04.526019",
     "exception": false,
     "start_time": "2020-12-27T21:59:04.502698",
     "status": "completed"
    },
    "tags": []
   },
   "source": [
    "* Pclass 3 has the most number of death.\n",
    "* All children under age of 10 in Pclass 2 survived.\n",
    "* Pclass 1 has the most survivors. We can tell that the survivors is way more than death in Pclass 1. \n",
    "* The oldest person on boarded survived, and he is in Pclass 1.\n",
    "\n",
    "Conclusion: We should consider Pcalss in our model."
   ]
  },
  {
   "cell_type": "markdown",
   "metadata": {
    "papermill": {
     "duration": 0.023692,
     "end_time": "2020-12-27T21:59:04.573491",
     "exception": false,
     "start_time": "2020-12-27T21:59:04.549799",
     "status": "completed"
    },
    "tags": []
   },
   "source": [
    "**Embarked:**"
   ]
  },
  {
   "cell_type": "code",
   "execution_count": 12,
   "metadata": {
    "execution": {
     "iopub.execute_input": "2020-12-27T21:59:04.627695Z",
     "iopub.status.busy": "2020-12-27T21:59:04.626696Z",
     "iopub.status.idle": "2020-12-27T21:59:04.631186Z",
     "shell.execute_reply": "2020-12-27T21:59:04.631601Z"
    },
    "papermill": {
     "duration": 0.03452,
     "end_time": "2020-12-27T21:59:04.631749",
     "exception": false,
     "start_time": "2020-12-27T21:59:04.597229",
     "status": "completed"
    },
    "tags": []
   },
   "outputs": [
    {
     "data": {
      "text/plain": [
       "array(['S', 'C', 'Q', nan], dtype=object)"
      ]
     },
     "execution_count": 12,
     "metadata": {},
     "output_type": "execute_result"
    }
   ],
   "source": [
    "train_df['Embarked'].unique()"
   ]
  },
  {
   "cell_type": "code",
   "execution_count": 13,
   "metadata": {
    "execution": {
     "iopub.execute_input": "2020-12-27T21:59:04.709542Z",
     "iopub.status.busy": "2020-12-27T21:59:04.708577Z",
     "iopub.status.idle": "2020-12-27T21:59:04.870921Z",
     "shell.execute_reply": "2020-12-27T21:59:04.871494Z"
    },
    "papermill": {
     "duration": 0.21141,
     "end_time": "2020-12-27T21:59:04.871645",
     "exception": false,
     "start_time": "2020-12-27T21:59:04.660235",
     "status": "completed"
    },
    "tags": []
   },
   "outputs": [
    {
     "data": {
      "text/plain": [
       "Text(0.5, 1.0, 'Number of Passengers from Each Port')"
      ]
     },
     "execution_count": 13,
     "metadata": {},
     "output_type": "execute_result"
    },
    {
     "data": {
      "image/png": "[encoded data removed]",
      "text/plain": [
       "<Figure size 1080x504 with 1 Axes>"
      ]
     },
     "metadata": {
      "needs_background": "light"
     },
     "output_type": "display_data"
    }
   ],
   "source": [
    "fig, ax_embarked = plt.subplots(figsize = (15, 7))\n",
    "sns.countplot(x = 'Embarked', data = train_df)\n",
    "\n",
    "ax_embarked.set_title('Number of Passengers from Each Port')"
   ]
  },
  {
   "cell_type": "code",
   "execution_count": 14,
   "metadata": {
    "execution": {
     "iopub.execute_input": "2020-12-27T21:59:04.925916Z",
     "iopub.status.busy": "2020-12-27T21:59:04.924950Z",
     "iopub.status.idle": "2020-12-27T21:59:05.339289Z",
     "shell.execute_reply": "2020-12-27T21:59:05.338702Z"
    },
    "papermill": {
     "duration": 0.442812,
     "end_time": "2020-12-27T21:59:05.339411",
     "exception": false,
     "start_time": "2020-12-27T21:59:04.896599",
     "status": "completed"
    },
    "tags": []
   },
   "outputs": [
    {
     "data": {
      "text/plain": [
       "<seaborn.axisgrid.FacetGrid at 0x7f26159a4a10>"
      ]
     },
     "execution_count": 14,
     "metadata": {},
     "output_type": "execute_result"
    },
    {
     "data": {
      "image/png": "[encoded data removed]",
      "text/plain": [
       "<Figure size 790.5x360 with 2 Axes>"
      ]
     },
     "metadata": {
      "needs_background": "light"
     },
     "output_type": "display_data"
    }
   ],
   "source": [
    "sns.catplot(x = 'Embarked', hue = 'Sex', col = 'Survived', data = train_df, kind = 'count')"
   ]
  },
  {
   "cell_type": "code",
   "execution_count": 15,
   "metadata": {
    "execution": {
     "iopub.execute_input": "2020-12-27T21:59:05.395468Z",
     "iopub.status.busy": "2020-12-27T21:59:05.394518Z",
     "iopub.status.idle": "2020-12-27T21:59:05.565878Z",
     "shell.execute_reply": "2020-12-27T21:59:05.566313Z"
    },
    "papermill": {
     "duration": 0.20097,
     "end_time": "2020-12-27T21:59:05.566466",
     "exception": false,
     "start_time": "2020-12-27T21:59:05.365496",
     "status": "completed"
    },
    "tags": []
   },
   "outputs": [
    {
     "data": {
      "text/plain": [
       "Text(0.5, 1.0, 'Number of Passenger in each Class from each Port')"
      ]
     },
     "execution_count": 15,
     "metadata": {},
     "output_type": "execute_result"
    },
    {
     "data": {
      "image/png": "[encoded data removed]",
      "text/plain": [
       "<Figure size 1080x504 with 1 Axes>"
      ]
     },
     "metadata": {
      "needs_background": "light"
     },
     "output_type": "display_data"
    }
   ],
   "source": [
    "fig, ax_embarked_class = plt.subplots(figsize = (15, 7))\n",
    "sns.countplot(x = 'Embarked', hue = 'Pclass', data = train_df)\n",
    "\n",
    "ax_embarked_class.set_title('Number of Passenger in each Class from each Port')"
   ]
  },
  {
   "cell_type": "markdown",
   "metadata": {
    "papermill": {
     "duration": 0.026412,
     "end_time": "2020-12-27T21:59:05.619799",
     "exception": false,
     "start_time": "2020-12-27T21:59:05.593387",
     "status": "completed"
    },
    "tags": []
   },
   "source": [
    "* Most passenger came boarded from Southampton.\n",
    "* Passengers from Southampton suffered the most death rate.\n",
    "* Most passengers in Pclass 3 came from Southampton, this would explain why Southampton has the highest death rate.\n",
    "* Female passengers have lower death rate than men for all three ports.\n",
    "\n",
    "Conclusion: We would consider embarked in our model."
   ]
  },
  {
   "cell_type": "markdown",
   "metadata": {
    "papermill": {
     "duration": 0.026702,
     "end_time": "2020-12-27T21:59:05.673806",
     "exception": false,
     "start_time": "2020-12-27T21:59:05.647104",
     "status": "completed"
    },
    "tags": []
   },
   "source": [
    "# Data Cleaning:"
   ]
  },
  {
   "cell_type": "code",
   "execution_count": 16,
   "metadata": {
    "execution": {
     "iopub.execute_input": "2020-12-27T21:59:05.733768Z",
     "iopub.status.busy": "2020-12-27T21:59:05.732762Z",
     "iopub.status.idle": "2020-12-27T21:59:05.740114Z",
     "shell.execute_reply": "2020-12-27T21:59:05.740561Z"
    },
    "papermill": {
     "duration": 0.038134,
     "end_time": "2020-12-27T21:59:05.740717",
     "exception": false,
     "start_time": "2020-12-27T21:59:05.702583",
     "status": "completed"
    },
    "tags": []
   },
   "outputs": [],
   "source": [
    "fig = ['Age', 'Sex', 'Pclass', 'Embarked', 'Survived']\n",
    "test_fig = ['Age', 'Sex', 'Pclass', 'Embarked']\n",
    "train = train_df[fig]\n",
    "test = test_df[test_fig]"
   ]
  },
  {
   "cell_type": "markdown",
   "metadata": {
    "papermill": {
     "duration": 0.027165,
     "end_time": "2020-12-27T21:59:05.795143",
     "exception": false,
     "start_time": "2020-12-27T21:59:05.767978",
     "status": "completed"
    },
    "tags": []
   },
   "source": [
    "Fill missing age with mean:"
   ]
  },
  {
   "cell_type": "code",
   "execution_count": 17,
   "metadata": {
    "execution": {
     "iopub.execute_input": "2020-12-27T21:59:05.854189Z",
     "iopub.status.busy": "2020-12-27T21:59:05.853202Z",
     "iopub.status.idle": "2020-12-27T21:59:05.864750Z",
     "shell.execute_reply": "2020-12-27T21:59:05.865661Z"
    },
    "papermill": {
     "duration": 0.0432,
     "end_time": "2020-12-27T21:59:05.865860",
     "exception": false,
     "start_time": "2020-12-27T21:59:05.822660",
     "status": "completed"
    },
    "tags": []
   },
   "outputs": [
    {
     "name": "stderr",
     "output_type": "stream",
     "text": [
      "/opt/conda/lib/python3.7/site-packages/pandas/core/series.py:4536: SettingWithCopyWarning: \n",
      "A value is trying to be set on a copy of a slice from a DataFrame\n",
      "\n",
      "See the caveats in the documentation: https://pandas.pydata.org/pandas-docs/stable/user_guide/indexing.html#returning-a-view-versus-a-copy\n",
      "  downcast=downcast,\n"
     ]
    }
   ],
   "source": [
    "train['Age'].fillna(value = train['Age'].mean(), inplace = True)\n",
    "test['Age'].fillna(value = test['Age'].mean(), inplace = True)"
   ]
  },
  {
   "cell_type": "markdown",
   "metadata": {
    "papermill": {
     "duration": 0.027156,
     "end_time": "2020-12-27T21:59:05.921122",
     "exception": false,
     "start_time": "2020-12-27T21:59:05.893966",
     "status": "completed"
    },
    "tags": []
   },
   "source": [
    "Handle Categorical Data:"
   ]
  },
  {
   "cell_type": "code",
   "execution_count": 18,
   "metadata": {
    "execution": {
     "iopub.execute_input": "2020-12-27T21:59:05.981652Z",
     "iopub.status.busy": "2020-12-27T21:59:05.980697Z",
     "iopub.status.idle": "2020-12-27T21:59:06.076770Z",
     "shell.execute_reply": "2020-12-27T21:59:06.076229Z"
    },
    "papermill": {
     "duration": 0.127411,
     "end_time": "2020-12-27T21:59:06.076891",
     "exception": false,
     "start_time": "2020-12-27T21:59:05.949480",
     "status": "completed"
    },
    "tags": []
   },
   "outputs": [
    {
     "name": "stderr",
     "output_type": "stream",
     "text": [
      "/opt/conda/lib/python3.7/site-packages/ipykernel_launcher.py:7: SettingWithCopyWarning: \n",
      "A value is trying to be set on a copy of a slice from a DataFrame.\n",
      "Try using .loc[row_indexer,col_indexer] = value instead\n",
      "\n",
      "See the caveats in the documentation: https://pandas.pydata.org/pandas-docs/stable/user_guide/indexing.html#returning-a-view-versus-a-copy\n",
      "  import sys\n",
      "/opt/conda/lib/python3.7/site-packages/ipykernel_launcher.py:8: SettingWithCopyWarning: \n",
      "A value is trying to be set on a copy of a slice from a DataFrame.\n",
      "Try using .loc[row_indexer,col_indexer] = value instead\n",
      "\n",
      "See the caveats in the documentation: https://pandas.pydata.org/pandas-docs/stable/user_guide/indexing.html#returning-a-view-versus-a-copy\n",
      "  \n"
     ]
    },
    {
     "data": {
      "text/html": [
       "<div>\n",
       "<style scoped>\n",
       "    .dataframe tbody tr th:only-of-type {\n",
       "        vertical-align: middle;\n",
       "    }\n",
       "\n",
       "    .dataframe tbody tr th {\n",
       "        vertical-align: top;\n",
       "    }\n",
       "\n",
       "    .dataframe thead th {\n",
       "        text-align: right;\n",
       "    }\n",
       "</style>\n",
       "<table border=\"1\" class=\"dataframe\">\n",
       "  <thead>\n",
       "    <tr style=\"text-align: right;\">\n",
       "      <th></th>\n",
       "      <th>Age</th>\n",
       "      <th>Sex</th>\n",
       "      <th>Pclass</th>\n",
       "      <th>Embarked</th>\n",
       "      <th>Survived</th>\n",
       "    </tr>\n",
       "  </thead>\n",
       "  <tbody>\n",
       "    <tr>\n",
       "      <th>0</th>\n",
       "      <td>22.0</td>\n",
       "      <td>1</td>\n",
       "      <td>3</td>\n",
       "      <td>2</td>\n",
       "      <td>0</td>\n",
       "    </tr>\n",
       "    <tr>\n",
       "      <th>1</th>\n",
       "      <td>38.0</td>\n",
       "      <td>0</td>\n",
       "      <td>1</td>\n",
       "      <td>0</td>\n",
       "      <td>1</td>\n",
       "    </tr>\n",
       "    <tr>\n",
       "      <th>2</th>\n",
       "      <td>26.0</td>\n",
       "      <td>0</td>\n",
       "      <td>3</td>\n",
       "      <td>2</td>\n",
       "      <td>1</td>\n",
       "    </tr>\n",
       "    <tr>\n",
       "      <th>3</th>\n",
       "      <td>35.0</td>\n",
       "      <td>0</td>\n",
       "      <td>1</td>\n",
       "      <td>2</td>\n",
       "      <td>1</td>\n",
       "    </tr>\n",
       "    <tr>\n",
       "      <th>4</th>\n",
       "      <td>35.0</td>\n",
       "      <td>1</td>\n",
       "      <td>3</td>\n",
       "      <td>2</td>\n",
       "      <td>0</td>\n",
       "    </tr>\n",
       "  </tbody>\n",
       "</table>\n",
       "</div>"
      ],
      "text/plain": [
       "    Age  Sex  Pclass  Embarked  Survived\n",
       "0  22.0    1       3         2         0\n",
       "1  38.0    0       1         0         1\n",
       "2  26.0    0       3         2         1\n",
       "3  35.0    0       1         2         1\n",
       "4  35.0    1       3         2         0"
      ]
     },
     "execution_count": 18,
     "metadata": {},
     "output_type": "execute_result"
    }
   ],
   "source": [
    "from sklearn.preprocessing import LabelEncoder\n",
    "\n",
    "obj_col = ['Sex','Embarked']\n",
    "\n",
    "label_encoder = LabelEncoder()\n",
    "for col in obj_col:\n",
    "    train[col] = label_encoder.fit_transform(train[col].astype(str))\n",
    "    test[col] = label_encoder.fit_transform(test[col].astype(str))\n",
    "train.head()"
   ]
  },
  {
   "cell_type": "markdown",
   "metadata": {
    "papermill": {
     "duration": 0.029,
     "end_time": "2020-12-27T21:59:06.134396",
     "exception": false,
     "start_time": "2020-12-27T21:59:06.105396",
     "status": "completed"
    },
    "tags": []
   },
   "source": [
    "# Train Model:"
   ]
  },
  {
   "cell_type": "code",
   "execution_count": 19,
   "metadata": {
    "execution": {
     "iopub.execute_input": "2020-12-27T21:59:06.196633Z",
     "iopub.status.busy": "2020-12-27T21:59:06.195963Z",
     "iopub.status.idle": "2020-12-27T21:59:06.581590Z",
     "shell.execute_reply": "2020-12-27T21:59:06.580957Z"
    },
    "papermill": {
     "duration": 0.418604,
     "end_time": "2020-12-27T21:59:06.581720",
     "exception": false,
     "start_time": "2020-12-27T21:59:06.163116",
     "status": "completed"
    },
    "tags": []
   },
   "outputs": [],
   "source": [
    "from sklearn.ensemble import RandomForestClassifier"
   ]
  },
  {
   "cell_type": "code",
   "execution_count": 20,
   "metadata": {
    "execution": {
     "iopub.execute_input": "2020-12-27T21:59:06.657706Z",
     "iopub.status.busy": "2020-12-27T21:59:06.652393Z",
     "iopub.status.idle": "2020-12-27T21:59:06.820856Z",
     "shell.execute_reply": "2020-12-27T21:59:06.820300Z"
    },
    "papermill": {
     "duration": 0.209583,
     "end_time": "2020-12-27T21:59:06.820984",
     "exception": false,
     "start_time": "2020-12-27T21:59:06.611401",
     "status": "completed"
    },
    "tags": []
   },
   "outputs": [
    {
     "data": {
      "text/plain": [
       "RandomForestClassifier(max_depth=5, random_state=1)"
      ]
     },
     "execution_count": 20,
     "metadata": {},
     "output_type": "execute_result"
    }
   ],
   "source": [
    "fig = ['Age', 'Sex', 'Pclass', 'Embarked']\n",
    "X = train[fig]\n",
    "\n",
    "y = train['Survived']\n",
    "\n",
    "model = RandomForestClassifier(n_estimators = 100, max_depth = 5, random_state = 1)\n",
    "model.fit(X, y)"
   ]
  },
  {
   "cell_type": "markdown",
   "metadata": {
    "papermill": {
     "duration": 0.028558,
     "end_time": "2020-12-27T21:59:06.878778",
     "exception": false,
     "start_time": "2020-12-27T21:59:06.850220",
     "status": "completed"
    },
    "tags": []
   },
   "source": [
    "# Result:"
   ]
  },
  {
   "cell_type": "code",
   "execution_count": 21,
   "metadata": {
    "execution": {
     "iopub.execute_input": "2020-12-27T21:59:06.945896Z",
     "iopub.status.busy": "2020-12-27T21:59:06.944835Z",
     "iopub.status.idle": "2020-12-27T21:59:07.248285Z",
     "shell.execute_reply": "2020-12-27T21:59:07.247213Z"
    },
    "papermill": {
     "duration": 0.340653,
     "end_time": "2020-12-27T21:59:07.248463",
     "exception": false,
     "start_time": "2020-12-27T21:59:06.907810",
     "status": "completed"
    },
    "tags": []
   },
   "outputs": [
    {
     "name": "stdout",
     "output_type": "stream",
     "text": [
      "Submission saved Successfully\n"
     ]
    }
   ],
   "source": [
    "prediction = model.predict(test)\n",
    "\n",
    "res_df = pd.DataFrame({'PassengerId': test_df['PassengerId'],\n",
    "                     'Survived': prediction})\n",
    "res_df.to_csv('my_submission.csv', index = False)\n",
    "\n",
    "print(\"Submission saved Successfully\")"
   ]
  },
  {
   "cell_type": "code",
   "execution_count": 22,
   "metadata": {
    "execution": {
     "iopub.execute_input": "2020-12-27T21:59:07.318238Z",
     "iopub.status.busy": "2020-12-27T21:59:07.317616Z",
     "iopub.status.idle": "2020-12-27T21:59:07.321894Z",
     "shell.execute_reply": "2020-12-27T21:59:07.321222Z"
    },
    "papermill": {
     "duration": 0.044038,
     "end_time": "2020-12-27T21:59:07.322015",
     "exception": false,
     "start_time": "2020-12-27T21:59:07.277977",
     "status": "completed"
    },
    "tags": []
   },
   "outputs": [
    {
     "data": {
      "text/html": [
       "<div>\n",
       "<style scoped>\n",
       "    .dataframe tbody tr th:only-of-type {\n",
       "        vertical-align: middle;\n",
       "    }\n",
       "\n",
       "    .dataframe tbody tr th {\n",
       "        vertical-align: top;\n",
       "    }\n",
       "\n",
       "    .dataframe thead th {\n",
       "        text-align: right;\n",
       "    }\n",
       "</style>\n",
       "<table border=\"1\" class=\"dataframe\">\n",
       "  <thead>\n",
       "    <tr style=\"text-align: right;\">\n",
       "      <th></th>\n",
       "      <th>PassengerId</th>\n",
       "      <th>Survived</th>\n",
       "    </tr>\n",
       "  </thead>\n",
       "  <tbody>\n",
       "    <tr>\n",
       "      <th>0</th>\n",
       "      <td>892</td>\n",
       "      <td>0</td>\n",
       "    </tr>\n",
       "    <tr>\n",
       "      <th>1</th>\n",
       "      <td>893</td>\n",
       "      <td>0</td>\n",
       "    </tr>\n",
       "    <tr>\n",
       "      <th>2</th>\n",
       "      <td>894</td>\n",
       "      <td>0</td>\n",
       "    </tr>\n",
       "    <tr>\n",
       "      <th>3</th>\n",
       "      <td>895</td>\n",
       "      <td>0</td>\n",
       "    </tr>\n",
       "    <tr>\n",
       "      <th>4</th>\n",
       "      <td>896</td>\n",
       "      <td>0</td>\n",
       "    </tr>\n",
       "    <tr>\n",
       "      <th>...</th>\n",
       "      <td>...</td>\n",
       "      <td>...</td>\n",
       "    </tr>\n",
       "    <tr>\n",
       "      <th>413</th>\n",
       "      <td>1305</td>\n",
       "      <td>0</td>\n",
       "    </tr>\n",
       "    <tr>\n",
       "      <th>414</th>\n",
       "      <td>1306</td>\n",
       "      <td>1</td>\n",
       "    </tr>\n",
       "    <tr>\n",
       "      <th>415</th>\n",
       "      <td>1307</td>\n",
       "      <td>0</td>\n",
       "    </tr>\n",
       "    <tr>\n",
       "      <th>416</th>\n",
       "      <td>1308</td>\n",
       "      <td>0</td>\n",
       "    </tr>\n",
       "    <tr>\n",
       "      <th>417</th>\n",
       "      <td>1309</td>\n",
       "      <td>0</td>\n",
       "    </tr>\n",
       "  </tbody>\n",
       "</table>\n",
       "<p>418 rows × 2 columns</p>\n",
       "</div>"
      ],
      "text/plain": [
       "     PassengerId  Survived\n",
       "0            892         0\n",
       "1            893         0\n",
       "2            894         0\n",
       "3            895         0\n",
       "4            896         0\n",
       "..           ...       ...\n",
       "413         1305         0\n",
       "414         1306         1\n",
       "415         1307         0\n",
       "416         1308         0\n",
       "417         1309         0\n",
       "\n",
       "[418 rows x 2 columns]"
      ]
     },
     "execution_count": 22,
     "metadata": {},
     "output_type": "execute_result"
    }
   ],
   "source": [
    "res_df"
   ]
  },
  {
   "cell_type": "code",
   "execution_count": null,
   "metadata": {
    "papermill": {
     "duration": 0.029307,
     "end_time": "2020-12-27T21:59:07.380843",
     "exception": false,
     "start_time": "2020-12-27T21:59:07.351536",
     "status": "completed"
    },
    "tags": []
   },
   "outputs": [],
   "source": []
  }
 ],
 "metadata": {
  "kernelspec": {
   "display_name": "Python 3",
   "language": "python",
   "name": "python3"
  },
  "language_info": {
   "codemirror_mode": {
    "name": "ipython",
    "version": 3
   },
   "file_extension": ".py",
   "mimetype": "text/x-python",
   "name": "python",
   "nbconvert_exporter": "python",
   "pygments_lexer": "ipython3",
   "version": "3.7.6"
  },
  "papermill": {
   "duration": 11.987026,
   "end_time": "2020-12-27T21:59:07.518003",
   "environment_variables": {},
   "exception": null,
   "input_path": "__notebook__.ipynb",
   "output_path": "__notebook__.ipynb",
   "parameters": {},
   "start_time": "2020-12-27T21:58:55.530977",
   "version": "2.1.0"
  }
 },
 "nbformat": 4,
 "nbformat_minor": 4
}
